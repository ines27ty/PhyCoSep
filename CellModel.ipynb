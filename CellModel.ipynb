{
 "cells": [
  {
   "cell_type": "code",
   "execution_count": 1,
   "metadata": {},
   "outputs": [
    {
     "ename": "SyntaxError",
     "evalue": "invalid syntax (2412629203.py, line 38)",
     "output_type": "error",
     "traceback": [
      "\u001b[1;36m  Cell \u001b[1;32mIn[1], line 38\u001b[1;36m\u001b[0m\n\u001b[1;33m    Ip =\u001b[0m\n\u001b[1;37m         ^\u001b[0m\n\u001b[1;31mSyntaxError\u001b[0m\u001b[1;31m:\u001b[0m invalid syntax\n"
     ]
    }
   ],
   "source": [
    "from pylab import *\n",
    "%matplotlib inline\n",
    "from cell2 import *\n",
    "from ct import *\n",
    "\n",
    "# Ionic force in the salt reservoir (concentration if monovalent ions)\n",
    "I = 0.00025             # mol/L      this is n0 / (1000*Na)\n",
    "# Volume fraction \n",
    "phi = 0.01\n",
    "# Surface charge density\n",
    "sigma_enm2 = 0.5         # e / nm^2\n",
    "# radius \n",
    "a = 9.0e-9\n",
    "Z = sigma_enm2*4*pi*(a*1e9)**2\n",
    "\n",
    "# Create simulation object\n",
    "sim = CellModelSimulation()\n",
    "# Set parameters for the simulation\n",
    "sim.SetParameters(a=a*1e9,I=I,res=800,phi=phi,sigma=sigma_enm2,adim=False)\n",
    "# Solve the PB equation numerically \n",
    "sim.solve()\n",
    "# Plot the potential profile \n",
    "plot(sim.r*sim.lambdaD,sim.psi)\n",
    "xlabel('$r$',fontsize=24)\n",
    "ylabel('$\\\\psi$',fontsize=24)\n",
    "# Compute the number of ions in the cell \n",
    "Ncol, Np, Nm = sim.CountIons()\n",
    "TotalVolume = 4./3.*pi*max(sim.r*sim.lambdaD)**3\n",
    "print (\"Ions from surface charges:\", Ncol)\n",
    "print (\"Added counter-ions       :\", Np)\n",
    "print (\"Added co-ions            :\", Nm)\n",
    "print (\"Counter-ion concentration in the cell : \", (Ncol+Np)/1000/Na/TotalVolume )\n",
    "print (\"Co-ion      concentration in the cell : \", Nm/1000/Na/TotalVolume )\n",
    "print (\"Total ion   concentration in the cell : \", (Ncol+Np+Nm)/1000/Na/TotalVolume)\n",
    "\n",
    "# Convert this into a concentration \n",
    "#  todo ...\n",
    "Ip = \n",
    "Im = \n",
    "print (Ip, Im)\n",
    "\n",
    "## Perform renormalization \n",
    "#sim.renormalize()\n",
    "#kappa_eff = sim.lambdaD*sim.kappa_PB\n",
    "#ka       = kappa_eff*a\n",
    "#psi_s_eff = sim.sigma_eff_adim*ka/(1+ka) \n",
    "#psi_DH = psi_s_eff**2*a*exp(ka)*exp(-kappa_eff*sim.r)\n",
    "#plot(sim.r*sim.lambdaD,psi_DH)\n"
   ]
  },
  {
   "cell_type": "code",
   "execution_count": null,
   "metadata": {
    "collapsed": true
   },
   "outputs": [],
   "source": []
  }
 ],
 "metadata": {
  "kernelspec": {
   "display_name": "Python 3",
   "language": "python",
   "name": "python3"
  },
  "language_info": {
   "codemirror_mode": {
    "name": "ipython",
    "version": 3
   },
   "file_extension": ".py",
   "mimetype": "text/x-python",
   "name": "python",
   "nbconvert_exporter": "python",
   "pygments_lexer": "ipython3",
   "version": "3.11.9"
  }
 },
 "nbformat": 4,
 "nbformat_minor": 1
}
