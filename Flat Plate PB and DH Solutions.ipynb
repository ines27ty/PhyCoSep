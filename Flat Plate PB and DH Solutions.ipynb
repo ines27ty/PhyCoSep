{
 "cells": [
  {
   "cell_type": "markdown",
   "metadata": {},
   "source": [
    "Solutions of Poisson-Boltzmann and the Debye-Hückel equation for a flat plate.\n"
   ]
  },
  {
   "cell_type": "code",
   "execution_count": 22,
   "metadata": {
    "scrolled": true
   },
   "outputs": [
    {
     "data": {
      "text/plain": [
       "(0.0, 10.0)"
      ]
     },
     "execution_count": 22,
     "metadata": {},
     "output_type": "execute_result"
    }
   ],
   "source": [
    "from pylab import *\n",
    "%matplotlib qt \n",
    "\n",
    "# Constants \n",
    "elc = 1.60217646e-19\n",
    "eps = 6.9062664977436e-10\n",
    "kT  = 4.045305379e-21\n",
    "Na  = 6.0221415e+23\n",
    "\n",
    "# Input parameters\n",
    "psi_s = 4\n",
    "sigma = 0.001\n",
    "I     = 1.0e-3 \n",
    "xmax  = 5.0e-8 \n",
    "\n",
    "# Calculations and plot for constant potential\n",
    "x = linspace(0,xmax,100)\n",
    "\n",
    "n0    = I*1000*Na\n",
    "kappa = sqrt(2*n0*elc**2/(eps*kT))\n",
    "\n",
    "psi_DH = 4*exp(-kappa*x)\n",
    "\n",
    "psi_PB = 2*log((1+exp(-kappa*x)*tanh(psi_s/4))/(1-exp(-kappa*x)*tanh(psi_s/4)))\n",
    "\n",
    "# Plot the solution\n",
    "close('all')\n",
    "figure()\n",
    "plot(x, psi_DH, 'b', label='DH solution')\n",
    "plot(x, psi_PB, 'r', label='PB solution')\n",
    "plot([0,1.0/kappa],[psi_s,0],'--k')\n",
    "xlabel('$x$', fontsize=24)\n",
    "ylabel('$\\\\psi$', fontsize=24)\n",
    "arrow(0,0.95*psi_s,1.0e-8,0,length_includes_head=True,head_length=0.1e-8)\n",
    "text(0.3e-8,0.85*psi_s,'Debye length')\n",
    "legend(loc='upper right')\n",
    "tight_layout()\n",
    "ylim(0,6)"
   ]
  },
  {
   "cell_type": "code",
   "execution_count": null,
   "metadata": {
    "collapsed": true,
    "jupyter": {
     "outputs_hidden": true
    }
   },
   "outputs": [],
   "source": []
  },
  {
   "cell_type": "code",
   "execution_count": null,
   "metadata": {},
   "outputs": [],
   "source": []
  }
 ],
 "metadata": {
  "kernelspec": {
   "display_name": "Python 3",
   "language": "python",
   "name": "python3"
  },
  "language_info": {
   "codemirror_mode": {
    "name": "ipython",
    "version": 3
   },
   "file_extension": ".py",
   "mimetype": "text/x-python",
   "name": "python",
   "nbconvert_exporter": "python",
   "pygments_lexer": "ipython3",
   "version": "3.11.9"
  }
 },
 "nbformat": 4,
 "nbformat_minor": 4
}
